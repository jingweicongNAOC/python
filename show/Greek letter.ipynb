{
 "cells": [
  {
   "cell_type": "code",
   "execution_count": 1,
   "metadata": {},
   "outputs": [
    {
     "name": "stdout",
     "output_type": "stream",
     "text": [
      "α 945\n",
      "β 946\n",
      "γ 947\n",
      "δ 948\n",
      "ε 949\n",
      "ζ 950\n",
      "η 951\n",
      "θ 952\n",
      "ι 953\n",
      "κ 954\n",
      "λ 955\n",
      "μ 956\n",
      "ν 957\n",
      "ξ 958\n",
      "ο 959\n",
      "π 960\n",
      "ρ 961\n",
      "ς 962\n",
      "σ 963\n",
      "τ 964\n",
      "υ 965\n",
      "φ 966\n",
      "χ 967\n",
      "ψ 968\n",
      "ω 969\n"
     ]
    }
   ],
   "source": [
    "for code in range(945,970):\n",
    "    print(chr(code),code)"
   ]
  },
  {
   "cell_type": "code",
   "execution_count": null,
   "metadata": {},
   "outputs": [],
   "source": []
  }
 ],
 "metadata": {
  "kernelspec": {
   "display_name": "Python 3",
   "language": "python",
   "name": "python3"
  },
  "language_info": {
   "codemirror_mode": {
    "name": "ipython",
    "version": 3
   },
   "file_extension": ".py",
   "mimetype": "text/x-python",
   "name": "python",
   "nbconvert_exporter": "python",
   "pygments_lexer": "ipython3",
   "version": "3.7.4"
  }
 },
 "nbformat": 4,
 "nbformat_minor": 2
}

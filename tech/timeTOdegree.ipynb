{
 "cells": [
  {
   "cell_type": "code",
   "execution_count": 16,
   "metadata": {},
   "outputs": [],
   "source": [
    "import numpy as np"
   ]
  },
  {
   "cell_type": "code",
   "execution_count": 17,
   "metadata": {},
   "outputs": [],
   "source": [
    "degreehour = 360/24\n",
    "degreeminute = archour/60\n",
    "degreesecond = arcminute/60"
   ]
  },
  {
   "cell_type": "code",
   "execution_count": 18,
   "metadata": {},
   "outputs": [],
   "source": [
    "# input time, h-hour, m-minute, and s-second; output degree\n",
    "def timeTOdegree(h, m, s):\n",
    "    d = h*degreehour + m*degreeminute + s*degreesecond\n",
    "    return d"
   ]
  },
  {
   "cell_type": "code",
   "execution_count": 21,
   "metadata": {
    "scrolled": true
   },
   "outputs": [],
   "source": [
    "# 23:47:50.2465\n",
    "def GetDegree(T):\n",
    "    Time_longtitude = T # set a value you want to change to degree from time-angle\n",
    "    time = list(map(float, Time_longtitude.split(':'))) \n",
    "# separate the time by ':', and then use the function 'map' to change char to float, one by one, finally show the list as output\n",
    "# next step : give the value to approprate variable\n",
    "    hour = time[0]\n",
    "    minute = time[1]\n",
    "    second = time[2]\n",
    "    degree = timeTOdegree(hour, minute, second)\n",
    "    return degree"
   ]
  },
  {
   "cell_type": "code",
   "execution_count": 25,
   "metadata": {},
   "outputs": [
    {
     "name": "stdout",
     "output_type": "stream",
     "text": [
      "ra1: 357.0702175\n",
      "ra2: 356.90933\n"
     ]
    }
   ],
   "source": [
    "ra1 = '23:48:16.8522' \n",
    "print ('ra1:', GetDegree(ra1))\n",
    "ra2 = '23:47:38.2392'\n",
    "print ('ra2:', GetDegree(ra2))"
   ]
  },
  {
   "cell_type": "code",
   "execution_count": null,
   "metadata": {},
   "outputs": [],
   "source": []
  }
 ],
 "metadata": {
  "kernelspec": {
   "display_name": "Python 3",
   "language": "python",
   "name": "python3"
  },
  "language_info": {
   "codemirror_mode": {
    "name": "ipython",
    "version": 3
   },
   "file_extension": ".py",
   "mimetype": "text/x-python",
   "name": "python",
   "nbconvert_exporter": "python",
   "pygments_lexer": "ipython3",
   "version": "3.7.4"
  }
 },
 "nbformat": 4,
 "nbformat_minor": 2
}

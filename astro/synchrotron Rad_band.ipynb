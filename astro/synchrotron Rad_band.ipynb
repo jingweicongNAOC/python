{
 "cells": [
  {
   "cell_type": "code",
   "execution_count": 19,
   "metadata": {},
   "outputs": [
    {
     "name": "stdout",
     "output_type": "stream",
     "text": [
      "2.80e+05 Hz\n"
     ]
    }
   ],
   "source": [
    "import numpy as np\n",
    "\n",
    "B_surround = 0.1 # Gauss\n",
    "gamma = 1\n",
    "\n",
    "e = 1.602176634 * 10**-19\n",
    "m_e = 9.109 * 10**-31\n",
    "B = B_surround / 10000\n",
    "\n",
    "frequency = gamma**2  * e * B / (2*np.pi*m_e)\n",
    "\n",
    "#print(frequency, 'Hz')\n",
    "print(format(frequency,'.2e'), 'Hz')"
   ]
  },
  {
   "cell_type": "code",
   "execution_count": 12,
   "metadata": {},
   "outputs": [
    {
     "name": "stdout",
     "output_type": "stream",
     "text": [
      "γ =  1954.3267757163244\n"
     ]
    }
   ],
   "source": [
    "kinetic_e = 1 # GeV\n",
    "\n",
    "e = 1.602176634 * 10**-19\n",
    "m_e = 9.109 * 10**-31\n",
    "c = 3 * 10**8 # m/s\n",
    "energy = kinetic_e * 10**9 * e\n",
    "gamma = energy / (m_e * c**2)\n",
    "print(r\"γ = \",gamma)"
   ]
  },
  {
   "cell_type": "code",
   "execution_count": null,
   "metadata": {},
   "outputs": [],
   "source": []
  },
  {
   "cell_type": "code",
   "execution_count": null,
   "metadata": {},
   "outputs": [],
   "source": []
  }
 ],
 "metadata": {
  "kernelspec": {
   "display_name": "Python 3",
   "language": "python",
   "name": "python3"
  },
  "language_info": {
   "codemirror_mode": {
    "name": "ipython",
    "version": 3
   },
   "file_extension": ".py",
   "mimetype": "text/x-python",
   "name": "python",
   "nbconvert_exporter": "python",
   "pygments_lexer": "ipython3",
   "version": "3.7.4"
  }
 },
 "nbformat": 4,
 "nbformat_minor": 2
}

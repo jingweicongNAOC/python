{
 "cells": [
  {
   "cell_type": "code",
   "execution_count": 6,
   "metadata": {},
   "outputs": [
    {
     "name": "stdout",
     "output_type": "stream",
     "text": [
      "wavelength_max =  2.90e-07 m\n",
      "frequency_max =  5.88e+05 GHz\n"
     ]
    }
   ],
   "source": [
    "# for Plancl\n",
    "# 注意：Wein law 对波长和频率的峰值位置的关系并非是简单的与c相乘除\n",
    "\n",
    "T = 10000 # K\n",
    "\n",
    "wavelength_thermal = 2.8977721 * 10**-3 / T\n",
    "frequency_max = 5.88 * 10**10 * T\n",
    "\n",
    "print('wavelength_max = ', format(wavelength_thermal,'.2e'), 'm')\n",
    "print('frequency_max = ', format(frequency_max/10**9,'.2e'), 'GHz')"
   ]
  },
  {
   "cell_type": "code",
   "execution_count": null,
   "metadata": {},
   "outputs": [],
   "source": []
  }
 ],
 "metadata": {
  "kernelspec": {
   "display_name": "Python 3",
   "language": "python",
   "name": "python3"
  },
  "language_info": {
   "codemirror_mode": {
    "name": "ipython",
    "version": 3
   },
   "file_extension": ".py",
   "mimetype": "text/x-python",
   "name": "python",
   "nbconvert_exporter": "python",
   "pygments_lexer": "ipython3",
   "version": "3.7.4"
  }
 },
 "nbformat": 4,
 "nbformat_minor": 2
}
